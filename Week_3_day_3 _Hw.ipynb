{
 "cells": [
  {
   "cell_type": "markdown",
   "metadata": {},
   "source": [
    "Now let's evolve a few"
   ]
  },
  {
   "cell_type": "markdown",
   "metadata": {},
   "source": [
    "#  Final Exercise: <br> <br>Create a Move_Tutor Class that will allow the Pokemon Class to inherit a move list.\n",
    "<br>\n",
    "<p>for an added bonus you can make sure that if a pokemon has 4 moves the user can choose one of them to replace with a new move. </p>"
   ]
  },
  {
   "cell_type": "code",
   "execution_count": 86,
   "metadata": {},
   "outputs": [],
   "source": [
    "# I put in the IPA for the moves and added damage type,accuracy, name,pp(im not sure what that is in pokemon), power and effect.\n",
    "#  Im not sure if i put the IPA in right. I wanted it to display a list of moves for the user to choose from.\n",
    "# I really want to get this running and understand where im making mistakes so i can grow in python.\n",
    "from IPython.display import Image\n",
    "import requests"
   ]
  },
  {
   "cell_type": "code",
   "execution_count": 87,
   "metadata": {},
   "outputs": [],
   "source": [
    "class pokemon:\n",
    "    def __init__(self,name):\n",
    "        super().__init__()\n",
    "        self.name = name\n",
    "        self.types = []\n",
    "        self.abilities = []\n",
    "        self.weight = 0\n",
    "        self.image = None\n",
    "        self.poke_api_call()\n",
    "        self.display()\n",
    "        \n",
    "    def poke_api_call(self):\n",
    "        req = requests.get(f\"https://pokeapi.co/api/v2/pokemon/{self.name}\")\n",
    "        if req.status_code == 200:\n",
    "            data = req.json()\n",
    "            self.name = data['name']\n",
    "            self.types = [type_['type']['name'] for type_ in data['types']]\n",
    "            self.abilities = [ability['ability']['name'] for ability in data['abilities']]\n",
    "            self.weight = data['weight']\n",
    "            self.image = data['sprites']['front_default']\n",
    "            print(f\"{self.name} data has been updated!\")\n",
    "        else:\n",
    "                print(f'Ran into an issue {r.status_code}')\n",
    "        return\n",
    "    def display(self):\n",
    "        display(Image(url = self.image))\n",
    "        \n",
    "        def __repr__(self):\n",
    "            return f\"You caught a {self.name.title()}!\""
   ]
  },
  {
   "cell_type": "code",
   "execution_count": 88,
   "metadata": {},
   "outputs": [
    {
     "name": "stdout",
     "output_type": "stream",
     "text": [
      "eevee data has been updated!\n"
     ]
    },
    {
     "data": {
      "text/html": [
       "<img src=\"https://raw.githubusercontent.com/PokeAPI/sprites/master/sprites/pokemon/133.png\"/>"
      ],
      "text/plain": [
       "<IPython.core.display.Image object>"
      ]
     },
     "metadata": {},
     "output_type": "display_data"
    }
   ],
   "source": [
    "eevee = pokemon(\"eevee\")\n"
   ]
  },
  {
   "cell_type": "code",
   "execution_count": 89,
   "metadata": {},
   "outputs": [
    {
     "data": {
      "text/html": [
       "<img src=\"https://raw.githubusercontent.com/PokeAPI/sprites/master/sprites/pokemon/133.png\"/>"
      ],
      "text/plain": [
       "<IPython.core.display.Image object>"
      ]
     },
     "metadata": {},
     "output_type": "display_data"
    }
   ],
   "source": [
    "eevee.display()\n",
    "\n",
    "    "
   ]
  },
  {
   "cell_type": "code",
   "execution_count": 90,
   "metadata": {},
   "outputs": [],
   "source": [
    "class Moves:\n",
    "    def __init__(self,moves):\n",
    "        self. name = name\n",
    "        self.id = {}\n",
    "        self. accuracy = {}\n",
    "        self.power = {}\n",
    "        self.pp = {}\n",
    "        self. effect_chance ={}\n",
    "        \n",
    "    def poke_api_call(self):\n",
    "        r=request.get(f\"https://pokeapi.co/api/v2/move/{id or name}/\")\n",
    "        if req.status_code == 200:\n",
    "            data = req.json()\n",
    "            self.name = data['name']\n",
    "            self.id = data['id']\n",
    "            self.accuracy = data['accuracy']\n",
    "            self.power = data['power']\n",
    "            self.pp = data['pp']\n",
    "            self.effect_chance = data['effect_chance']\n",
    "            print(f\"{self.name} data has been updated!\")\n",
    "        else:\n",
    "                print(f'Ran into an issue {r.status_code}')\n",
    "                \n",
    "    def __repr__(self):\n",
    "            return f\"You taught eevee {self.moves.title()}!\"\n",
    "            "
   ]
  },
  {
   "cell_type": "code",
   "execution_count": 91,
   "metadata": {},
   "outputs": [
    {
     "name": "stdout",
     "output_type": "stream",
     "text": [
      "\n",
      "        Choose eevee's moves.\n",
      "        [1] Show current moves.\n",
      "        [2] Add moves.\n",
      "        [3] Remove moves.\n",
      "        [4] Quit, Evolve.\n",
      "        \n"
     ]
    },
    {
     "ename": "NameError",
     "evalue": "name 'moves' is not defined",
     "output_type": "error",
     "traceback": [
      "\u001b[1;31m---------------------------------------------------------------------------\u001b[0m",
      "\u001b[1;31mNameError\u001b[0m                                 Traceback (most recent call last)",
      "\u001b[1;32mc:\\Users\\chris\\OneDrive\\Documents\\codingtemple\\Code temp\\Week 3\\Day Three\\Week -3 Day-3-Hw\\Week_3_day_3 _Hw.ipynb Cell 8\u001b[0m in \u001b[0;36m<cell line: 34>\u001b[1;34m()\u001b[0m\n\u001b[0;32m     <a href='vscode-notebook-cell:/c%3A/Users/chris/OneDrive/Documents/codingtemple/Code%20temp/Week%203/Day%20Three/Week%20-3%20Day-3-Hw/Week_3_day_3%20_Hw.ipynb#X16sZmlsZQ%3D%3D?line=31'>32</a>\u001b[0m             \u001b[39melse\u001b[39;00m:\n\u001b[0;32m     <a href='vscode-notebook-cell:/c%3A/Users/chris/OneDrive/Documents/codingtemple/Code%20temp/Week%203/Day%20Three/Week%20-3%20Day-3-Hw/Week_3_day_3%20_Hw.ipynb#X16sZmlsZQ%3D%3D?line=32'>33</a>\u001b[0m                 \u001b[39mprint\u001b[39m(\u001b[39m\"\u001b[39m\u001b[39mPlease choose a valid move for eevee.\u001b[39m\u001b[39m\"\u001b[39m)\n\u001b[1;32m---> <a href='vscode-notebook-cell:/c%3A/Users/chris/OneDrive/Documents/codingtemple/Code%20temp/Week%203/Day%20Three/Week%20-3%20Day-3-Hw/Week_3_day_3%20_Hw.ipynb#X16sZmlsZQ%3D%3D?line=33'>34</a>\u001b[0m Main\u001b[39m.\u001b[39;49mrun()\n",
      "\u001b[1;32mc:\\Users\\chris\\OneDrive\\Documents\\codingtemple\\Code temp\\Week 3\\Day Three\\Week -3 Day-3-Hw\\Week_3_day_3 _Hw.ipynb Cell 8\u001b[0m in \u001b[0;36mMain.run\u001b[1;34m()\u001b[0m\n\u001b[0;32m     <a href='vscode-notebook-cell:/c%3A/Users/chris/OneDrive/Documents/codingtemple/Code%20temp/Week%203/Day%20Three/Week%20-3%20Day-3-Hw/Week_3_day_3%20_Hw.ipynb#X16sZmlsZQ%3D%3D?line=10'>11</a>\u001b[0m \u001b[39mdef\u001b[39;00m \u001b[39mrun\u001b[39m():\n\u001b[0;32m     <a href='vscode-notebook-cell:/c%3A/Users/chris/OneDrive/Documents/codingtemple/Code%20temp/Week%203/Day%20Three/Week%20-3%20Day-3-Hw/Week_3_day_3%20_Hw.ipynb#X16sZmlsZQ%3D%3D?line=11'>12</a>\u001b[0m     Main\u001b[39m.\u001b[39mshowchoices()\n\u001b[1;32m---> <a href='vscode-notebook-cell:/c%3A/Users/chris/OneDrive/Documents/codingtemple/Code%20temp/Week%203/Day%20Three/Week%20-3%20Day-3-Hw/Week_3_day_3%20_Hw.ipynb#X16sZmlsZQ%3D%3D?line=12'>13</a>\u001b[0m     my_moves \u001b[39m=\u001b[39m moves()\n\u001b[0;32m     <a href='vscode-notebook-cell:/c%3A/Users/chris/OneDrive/Documents/codingtemple/Code%20temp/Week%203/Day%20Three/Week%20-3%20Day-3-Hw/Week_3_day_3%20_Hw.ipynb#X16sZmlsZQ%3D%3D?line=14'>15</a>\u001b[0m     \u001b[39mwhile\u001b[39;00m \u001b[39mTrue\u001b[39;00m:\n\u001b[0;32m     <a href='vscode-notebook-cell:/c%3A/Users/chris/OneDrive/Documents/codingtemple/Code%20temp/Week%203/Day%20Three/Week%20-3%20Day-3-Hw/Week_3_day_3%20_Hw.ipynb#X16sZmlsZQ%3D%3D?line=15'>16</a>\u001b[0m         choice \u001b[39m=\u001b[39m \u001b[39minput\u001b[39m(\u001b[39m\"\u001b[39m\u001b[39mWhat would you like to do? \u001b[39m\u001b[39m\"\u001b[39m)\n",
      "\u001b[1;31mNameError\u001b[0m: name 'moves' is not defined"
     ]
    }
   ],
   "source": [
    "class Main:\n",
    "    def showchoices():\n",
    "        print(\"\"\"\n",
    "        Choose eevee's moves.\n",
    "        [1] Show current moves.\n",
    "        [2] Add moves.\n",
    "        [3] Remove moves.\n",
    "        [4] Quit, Evolve.\n",
    "        \"\"\")\n",
    "\n",
    "    def run():\n",
    "        Main.showchoices()\n",
    "        my_moves = moves()\n",
    "\n",
    "        while True:\n",
    "            choice = input(\"What would you like to do? \")\n",
    "            if choice == \"1\":\n",
    "                if my_moves.moves =={}:\n",
    "                    print(\"You need to train eevee!!\")\n",
    "                else:\n",
    "                    my_moves.show()\n",
    "            elif choice == \"2\":\n",
    "                my_moves.add_moves()\n",
    "            elif choice == \"3\":\n",
    "                if my_moves.moves =={}:\n",
    "                    print(\"Please train eevee. Eevee has no moves.\")\n",
    "                else:\n",
    "                    my_moves.remove_moves()\n",
    "            elif choice == \"4\":\n",
    "                my_moves.quit()\n",
    "                break\n",
    "            else:\n",
    "                print(\"Please choose a valid move for eevee.\")\n",
    "Main.run()"
   ]
  },
  {
   "cell_type": "code",
   "execution_count": null,
   "metadata": {},
   "outputs": [],
   "source": [
    "class Evolver:\n",
    "    def evolve(self):\n",
    "        r = requests.get(f\"https://pokeapi.co/api/v2/pokemon-species/{self.name}/\")\n",
    "        if r.status_code == 200:\n",
    "            pokemon_species = r.json()\n",
    "        else:\n",
    "            print(f'Ran into an issue {r.status_code}')\n",
    "        return\n",
    "        \n",
    "        r = requests.get(pokemon_species['evolution_chain']['url'])\n",
    "        if r2.status_code == 200:\n",
    "            ev_chain = r2.json()\n",
    "            ev_chain = ev_chain['chain']\n",
    "        else:\n",
    "            print(f\"Ran into an issue {r.status_code}\")\n",
    "        return\n",
    "        \n",
    "        base_name = ev_chain[\"species\"][\"name\"]\n",
    "        evolution = ev_chain['evolves_to'][0]\n",
    "        evolution_name = evolution['species']['name']\n",
    "        # Evolution 1\n",
    "        if base_name == self.name:\n",
    "            pass\n",
    "            \n",
    "        # Evolution 2\n",
    "        elif evolution_name == self.name:\n",
    "            evolution_name = evolution['evolves_to'][0]['species']['name']\n",
    "      \n",
    "        # Evolution 3\n",
    "        else:\n",
    "            print(f\"You can't evolve your {self.name} anymore. \")\n",
    "        return\n",
    "        print('.......')\n",
    "        sleep(1)\n",
    "        print(f\"Your {self.name} is evolving!?!?\")\n",
    "        self.display()\n",
    "        sleep(1)\n",
    "        print('................')\n",
    "        self.name = evolution_name\n",
    "        self.poke_api_call()\n",
    "        self.display()"
   ]
  },
  {
   "cell_type": "code",
   "execution_count": null,
   "metadata": {},
   "outputs": [],
   "source": [
    "class Pokemon(Evolver):\n",
    "    def __init__(self, name):\n",
    "        super().__init__()\n",
    "        self.name = name\n",
    "        self.types = []\n",
    "        self.abilities = []\n",
    "        self.weight = 0\n",
    "        self.image = None\n",
    "        self.poke_api_call() \n",
    "        self.display()\n",
    "    \n",
    "    def poke_api_call(self):\n",
    "        req = requests.get(f\"https://pokeapi.co/api/v2/pokemon/{self.name}\")\n",
    "        if req.status_code == 200:\n",
    "            data = req.json()\n",
    "            self.name = data['name']\n",
    "            self.types = [type_['type']['name'] for type_ in data['types']]\n",
    "            self.abilities = [ability['ability']['name'] for ability in data['abilities']]\n",
    "            self.weight = data['weight']\n",
    "            self.image = data['sprites']['front_default']\n",
    "            print(f\"{self.name} data has been updated!\")\n",
    "\n",
    "        else:\n",
    "            print(f\"Ran into an issue {req.status_code}\")\n",
    "            return \n",
    "    \n",
    "    def display(self):\n",
    "        display(Image(url = self.image))\n",
    "        \n",
    "    def __repr__(self):\n",
    "        return f\"You caught a {self.name.title()}!\""
   ]
  },
  {
   "cell_type": "code",
   "execution_count": null,
   "metadata": {},
   "outputs": [
    {
     "name": "stdout",
     "output_type": "stream",
     "text": [
      "eevee data has been updated!\n"
     ]
    },
    {
     "data": {
      "text/html": [
       "<img src=\"https://raw.githubusercontent.com/PokeAPI/sprites/master/sprites/pokemon/133.png\"/>"
      ],
      "text/plain": [
       "<IPython.core.display.Image object>"
      ]
     },
     "metadata": {},
     "output_type": "display_data"
    }
   ],
   "source": [
    "eevee = Pokemon(\"eevee\")"
   ]
  },
  {
   "cell_type": "code",
   "execution_count": null,
   "metadata": {},
   "outputs": [],
   "source": [
    "eevee.evolve()"
   ]
  },
  {
   "cell_type": "code",
   "execution_count": null,
   "metadata": {},
   "outputs": [],
   "source": []
  }
 ],
 "metadata": {
  "kernelspec": {
   "display_name": "Python 3.9.13 64-bit",
   "language": "python",
   "name": "python3"
  },
  "language_info": {
   "codemirror_mode": {
    "name": "ipython",
    "version": 3
   },
   "file_extension": ".py",
   "mimetype": "text/x-python",
   "name": "python",
   "nbconvert_exporter": "python",
   "pygments_lexer": "ipython3",
   "version": "3.9.13"
  },
  "vscode": {
   "interpreter": {
    "hash": "11938c6bc6919ae2720b4d5011047913343b08a43b18698fd82dedb0d4417594"
   }
  }
 },
 "nbformat": 4,
 "nbformat_minor": 4
}
