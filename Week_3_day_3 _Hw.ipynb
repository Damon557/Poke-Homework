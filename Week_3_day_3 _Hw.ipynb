{
 "cells": [
  {
   "cell_type": "markdown",
   "metadata": {},
   "source": [
    "#  Final Exercise: <br> <br>Create a Move_Tutor Class that will allow the Pokemon Class to inherit a move list.\n",
    "<br>\n",
    "<p>for an added bonus you can make sure that if a pokemon has 4 moves the user can choose one of them to replace with a new move. </p>"
   ]
  },
  {
   "cell_type": "code",
   "execution_count": 18,
   "metadata": {},
   "outputs": [],
   "source": [
    "from IPython.display import Image\n",
    "import requests"
   ]
  },
  {
   "cell_type": "code",
   "execution_count": 19,
   "metadata": {},
   "outputs": [],
   "source": [
    "class Moves:\n",
    "    def __init__(self):\n",
    "        self.moveName = None\n",
    "        self.moveList = []\n",
    "        self. accuracy = None\n",
    "        self.power = None\n",
    "        self.pp = None\n",
    "        self. effect_chance = None\n",
    "        self.name ='eevee'\n",
    "    def getMoves(self):\n",
    "        req = requests.get(f\"https://pokeapi.co/api/v2/pokemon/{self.name}\")\n",
    "        if req.status_code == 200:\n",
    "            data = req.json() # do request set equal to data\n",
    "            self.moveList = [move['move']['name'] for move in data['moves']]      # set self.movelist = change types to moves  and type to move.\n",
    "        print(self.moveList)\n",
    "    def learnMore(self):\n",
    "        moveInput = input(\"What move do you want to learn more about? \")\n",
    "        if moveInput in self.moveList:\n",
    "            r=requests.get(f\"https://pokeapi.co/api/v2/move/{moveInput}\")\n",
    "            if r.status_code == 200:\n",
    "                data = r.json()\n",
    "                self.moveName = data['name']\n",
    "                self.accuracy = data['accuracy']\n",
    "                self.power = data['power']\n",
    "                self.pp = data['pp']\n",
    "                self.effect_chance = data['effect_chance']\n",
    "                print(f\"{self.name} data has been updated!\")\n",
    "                print(f\"\"\"\n",
    "                The name of this move is {self.moveName}\n",
    "                The accuracy of this move is {self.accuracy}\n",
    "                The power of this move is {self.power}\n",
    "                The Power point cost is {self.pp}\n",
    "                The chance of effect is {self.effect_chance}\n",
    "                \"\"\")\n",
    "            else:\n",
    "                    print(f'Ran into an issue {r.status_code}')\n",
    "        else:\n",
    "            print(\"Your pokemon doesnt know that move.\")\n",
    "          \n",
    "    def __repr__(self):\n",
    "            return f\"You taught eevee {self.moveList}!\""
   ]
  },
  {
   "cell_type": "code",
   "execution_count": 20,
   "metadata": {},
   "outputs": [],
   "source": [
    "class Pokemon(Moves):\n",
    "    def __init__(self,name):\n",
    "        Moves.__init__(self)\n",
    "        # super().__init__()\n",
    "        self.name = name\n",
    "        self.types = []\n",
    "        self.abilities = []\n",
    "        self.weight = 0\n",
    "        self.image = None\n",
    "        self.poke_api_call()\n",
    "        self.display()\n",
    "        \n",
    "    def poke_api_call(self):\n",
    "        req = requests.get(f\"https://pokeapi.co/api/v2/pokemon/{self.name}\")\n",
    "        if req.status_code == 200:\n",
    "            data = req.json()\n",
    "            self.name = data['name']\n",
    "            self.types = [type_['type']['name'] for type_ in data['types']]\n",
    "            self.abilities = [ability['ability']['name'] for ability in data['abilities']]\n",
    "            self.weight = data['weight']\n",
    "            self.image = data['sprites']['front_default']\n",
    "            print(f\"{self.name} data has been updated!\")\n",
    "        else:\n",
    "                print(f'Ran into an issue {r.status_code}')\n",
    "        return\n",
    "    def display(self):\n",
    "        display(Image(url = self.image))\n",
    "        \n",
    "        def __repr__(self):\n",
    "            return f\"You caught a {self.name.title()}!\""
   ]
  },
  {
   "cell_type": "code",
   "execution_count": 21,
   "metadata": {},
   "outputs": [
    {
     "name": "stdout",
     "output_type": "stream",
     "text": [
      "\n",
      "        Choose eevee's moves.\n",
      "        [1] Show current moves.\n",
      "        [2] Add moves.\n",
      "        [3] Learn more.\n",
      "        [4] Quit, Evolve.\n",
      "        \n",
      "eevee data has been updated!\n"
     ]
    },
    {
     "data": {
      "text/html": [
       "<img src=\"https://raw.githubusercontent.com/PokeAPI/sprites/master/sprites/pokemon/133.png\"/>"
      ],
      "text/plain": [
       "<IPython.core.display.Image object>"
      ]
     },
     "metadata": {},
     "output_type": "display_data"
    },
    {
     "name": "stdout",
     "output_type": "stream",
     "text": [
      "['pay-day', 'double-kick', 'sand-attack', 'headbutt', 'tackle', 'body-slam', 'take-down', 'double-edge', 'tail-whip', 'bite', 'growl', 'dig', 'toxic', 'quick-attack', 'rage', 'mimic', 'double-team', 'reflect', 'focus-energy', 'bide', 'swift', 'skull-bash', 'rest', 'substitute', 'snore', 'curse', 'flail', 'protect', 'mud-slap', 'detect', 'endure', 'charm', 'swagger', 'attract', 'sleep-talk', 'heal-bell', 'return', 'frustration', 'baton-pass', 'iron-tail', 'hidden-power', 'rain-dance', 'sunny-day', 'shadow-ball', 'facade', 'helping-hand', 'wish', 'yawn', 'refresh', 'secret-power', 'hyper-voice', 'weather-ball', 'fake-tears', 'tickle', 'covet', 'natural-gift', 'trump-card', 'copycat', 'last-resort', 'captivate', 'synchronoise', 'round', 'echoed-voice', 'stored-power', 'retaliate', 'work-up', 'confide', 'baby-doll-eyes', 'laser-focus']\n",
      "eevee data has been updated!\n",
      "\n",
      "                The name of this move is headbutt\n",
      "                The accuracy of this move is100\n",
      "                The power of this move is70\n",
      "                The Power point cost is15\n",
      "                The chance of effect is30\n",
      "                \n"
     ]
    }
   ],
   "source": [
    "class Main:\n",
    "    def showchoices():\n",
    "        print(\"\"\"\n",
    "        Choose eevee's moves.\n",
    "        [1] Show current moves.\n",
    "        [2] Add moves.\n",
    "        [3] Learn more.\n",
    "        [4] Quit, Evolve.\n",
    "        \"\"\")\n",
    "\n",
    "    def run():\n",
    "        Main.showchoices()\n",
    "        name = input(\"what pokemon would you like to choose? \")\n",
    "        my_pokemon = Pokemon(name)\n",
    "        my_moves = Moves()\n",
    "\n",
    "        while True:\n",
    "            choice = input(\"What would you like to do? \")\n",
    "            if choice == \"1\":\n",
    "                if my_moves.moveList =={}:\n",
    "                    print(\"You need to train !!\")\n",
    "                else:\n",
    "                    my_moves.__repr__()\n",
    "                    break\n",
    "            elif choice == \"2\":\n",
    "                my_moves.getMoves()\n",
    "               \n",
    "            elif choice == \"3\":\n",
    "                if my_moves.moveList == []:\n",
    "                    print(\"Please train. Has no moves.\")\n",
    "                else:\n",
    "                    my_moves.learnMore()\n",
    "                    \n",
    "            elif choice == \"4\":\n",
    "                # my_moves.quit()\n",
    "                break\n",
    "            else:\n",
    "                print(\"Please choose a valid move for eevee.\")\n",
    "Main.run()"
   ]
  },
  {
   "cell_type": "code",
   "execution_count": 22,
   "metadata": {},
   "outputs": [],
   "source": [
    "# class Evolver:\n",
    "#     def evolve(self):\n",
    "#         r = requests.get(f\"https://pokeapi.co/api/v2/pokemon-species/{self.name}/\")\n",
    "#         if r.status_code == 200:\n",
    "#             pokemon_species = r.json()\n",
    "#         else:\n",
    "#             print(f'Ran into an issue {r.status_code}')\n",
    "#         return\n",
    "        \n",
    "#         r = requests.get(pokemon_species['evolution_chain']['url'])\n",
    "#         if r2.status_code == 200:\n",
    "#             ev_chain = r2.json()\n",
    "#             ev_chain = ev_chain['chain']\n",
    "#         else:\n",
    "#             print(f\"Ran into an issue {r.status_code}\")\n",
    "#         return\n",
    "        \n",
    "#         base_name = ev_chain[\"species\"][\"name\"]\n",
    "#         evolution = ev_chain['evolves_to'][0]\n",
    "#         evolution_name = evolution['species']['name']\n",
    "#         # Evolution 1\n",
    "#         if base_name == self.name:\n",
    "#             pass\n",
    "            \n",
    "#         # Evolution 2\n",
    "#         elif evolution_name == self.name:\n",
    "#             evolution_name = evolution['evolves_to'][0]['species']['name']\n",
    "      \n",
    "#         # Evolution 3\n",
    "#         else:\n",
    "#             print(f\"You can't evolve your {self.name} anymore. \")\n",
    "#         return\n",
    "#         print('.......')\n",
    "#         sleep(1)\n",
    "#         print(f\"Your {self.name} is evolving!?!?\")\n",
    "#         self.display()\n",
    "#         sleep(1)\n",
    "#         print('................')\n",
    "#         self.name = evolution_name\n",
    "#         self.poke_api_call()\n",
    "#         self.display()"
   ]
  },
  {
   "cell_type": "code",
   "execution_count": 23,
   "metadata": {},
   "outputs": [],
   "source": [
    "# class Pokemon(Evolver):\n",
    "#     def __init__(self, name):\n",
    "#         super().__init__()\n",
    "#         self.name = name\n",
    "#         self.types = []\n",
    "#         self.abilities = []\n",
    "#         self.weight = 0\n",
    "#         self.image = None\n",
    "#         self.poke_api_call() \n",
    "#         self.display()\n",
    "    \n",
    "#     def poke_api_call(self):\n",
    "#         req = requests.get(f\"https://pokeapi.co/api/v2/pokemon/{self.name}\")\n",
    "#         if req.status_code == 200:\n",
    "#             data = req.json()\n",
    "#             self.name = data['name']\n",
    "#             self.types = [type_['type']['name'] for type_ in data['types']]\n",
    "#             self.abilities = [ability['ability']['name'] for ability in data['abilities']]\n",
    "#             self.weight = data['weight']\n",
    "#             self.image = data['sprites']['front_default']\n",
    "#             print(f\"{self.name} data has been updated!\")\n",
    "\n",
    "#         else:\n",
    "#             print(f\"Ran into an issue {req.status_code}\")\n",
    "#             return \n",
    "    \n",
    "#     def display(self):\n",
    "#         display(Image(url = self.image))\n",
    "        \n",
    "#     def __repr__(self):\n",
    "#         return f\"You caught a {self.name.title()}!\""
   ]
  },
  {
   "cell_type": "code",
   "execution_count": 24,
   "metadata": {},
   "outputs": [],
   "source": [
    "# eevee = Pokemon(\"eevee\")"
   ]
  },
  {
   "cell_type": "code",
   "execution_count": 25,
   "metadata": {},
   "outputs": [],
   "source": [
    "# eevee.evolve()"
   ]
  },
  {
   "cell_type": "code",
   "execution_count": null,
   "metadata": {},
   "outputs": [],
   "source": []
  }
 ],
 "metadata": {
  "kernelspec": {
   "display_name": "Python 3.9.13 64-bit",
   "language": "python",
   "name": "python3"
  },
  "language_info": {
   "codemirror_mode": {
    "name": "ipython",
    "version": 3
   },
   "file_extension": ".py",
   "mimetype": "text/x-python",
   "name": "python",
   "nbconvert_exporter": "python",
   "pygments_lexer": "ipython3",
   "version": "3.9.13"
  },
  "vscode": {
   "interpreter": {
    "hash": "11938c6bc6919ae2720b4d5011047913343b08a43b18698fd82dedb0d4417594"
   }
  }
 },
 "nbformat": 4,
 "nbformat_minor": 4
}
